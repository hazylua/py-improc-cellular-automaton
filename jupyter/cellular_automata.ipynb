{
 "cells": [
  {
   "cell_type": "code",
   "execution_count": 2,
   "metadata": {},
   "outputs": [],
   "source": [
    "# Configure notebook\n",
    "%load_ext Cython\n",
    "%matplotlib inline\n",
    "%config IPCompleter.greedy=True"
   ]
  },
  {
   "cell_type": "code",
   "execution_count": 5,
   "metadata": {},
   "outputs": [],
   "source": [
    "# Set up paths for notebook\n",
    "import sys\n",
    "import os\n",
    "import json\n",
    "\n",
    "module_path = os.path.abspath(os.path.join('..'))\n",
    "if module_path not in sys.path:\n",
    "    sys.path.append(module_path)\n",
    "    \n",
    "from cellular_automata import CellularAutomata\n",
    "import image_processing as improc\n",
    "import matplotlib.pyplot as plt\n",
    "    \n",
    "RESULTS_PATH = \"../results/\"\n",
    "SAMPLES_PATH = \"../samples/\"\n",
    "STATES_PATH = \"../states/\"\n",
    "\n",
    "# Example\n",
    "#img = improc.read_preprocess(samples_path + 'white_cat.jpg')\n",
    "#plt.imshow(img, cmap='gray')"
   ]
  },
  {
   "cell_type": "code",
   "execution_count": 10,
   "metadata": {},
   "outputs": [
    {
     "output_type": "stream",
     "name": "stdout",
     "text": [
      "Pre-processing...\n",
      "Image loaded.\n",
      "Saving image...\n",
      "Checking if path exists...\n",
      "This path exists.\n",
      "Image saved successfully at: ../samples/sat-salted.jpg\n",
      "4.61 s ± 354 ms per loop (mean ± std. dev. of 7 runs, 1 loop each)\n",
      "Saving image...\n",
      "Checking if path exists...\n",
      "This path exists.\n",
      "Image saved successfully at: ../results/result.jpg\n"
     ]
    }
   ],
   "source": [
    "def load_image(fpath):\n",
    "    \"\"\" Load image and preprocess. \"\"\"\n",
    "    im = improc.read_preprocess(\n",
    "        SAMPLES_PATH + fpath, resize=True, height_resize=0.3)\n",
    "    return im\n",
    "\n",
    "\n",
    "def load_rules(rpath):\n",
    "    \"\"\" Load rules from file. \"\"\"\n",
    "    arr = []\n",
    "    with open(rpath, \"r\") as f:\n",
    "        arr = json.load(f)\n",
    "    return arr\n",
    "\n",
    "\n",
    "imfile = \"sat.jpg\"\n",
    "img = load_image(imfile)\n",
    "improc.save_img(SAMPLES_PATH, \"sat-salted.jpg\", img)\n",
    "rfile = \"../rules.json\"\n",
    "rules = load_rules(rfile)\n",
    "\n",
    "pattern = rules[900][0]\n",
    "ca = CellularAutomata(img, pattern)\n",
    "%timeit ca.run()\n",
    "imresult = f\"result.jpg\"\n",
    "improc.save_img(RESULTS_PATH, imresult, ca.field)\n"
   ]
  },
  {
   "cell_type": "code",
   "execution_count": null,
   "metadata": {},
   "outputs": [],
   "source": []
  }
 ],
 "metadata": {
  "kernelspec": {
   "name": "python385jvsc74a57bd0f7320ff469cb57c7c09d3053a8e15443ab559c6aa09771739bf0e734d53001a6",
   "display_name": "Python 3.8.5 64-bit ('Yago': virtualenv)"
  },
  "language_info": {
   "codemirror_mode": {
    "name": "ipython",
    "version": 3
   },
   "file_extension": ".py",
   "mimetype": "text/x-python",
   "name": "python",
   "nbconvert_exporter": "python",
   "pygments_lexer": "ipython3",
   "version": "3.8.5-final"
  }
 },
 "nbformat": 4,
 "nbformat_minor": 4
}